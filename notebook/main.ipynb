{
 "cells": [
  {
   "cell_type": "code",
   "execution_count": 1,
   "id": "1696952b",
   "metadata": {},
   "outputs": [],
   "source": [
    "import pandas as pd\n",
    "import numpy as np\n",
    "from scipy.stats import beta\n",
    "import pylab as plt\n",
    "\n",
    "def plot(betas, nombres, x):\n",
    "    \n",
    "    for bet, nom in zip(betas, nombres):\n",
    "        \n",
    "        y=bet.pdf(x)\n",
    "        y_media=bet.mean()\n",
    "        y_std=bet.std()\n",
    "        \n",
    "        plt.plot(x, y, label='{}, tasa de conv: {:.6f} $\\pm$ {:.10f}'.format(nom, y_media, y_std))\n",
    "        plt.yticks([])\n",
    "        \n",
    "    plt.legend()\n",
    "    plt.show();"
   ]
  },
  {
   "cell_type": "markdown",
   "id": "86c2d1ed",
   "metadata": {},
   "source": [
    "# Recopilación de datos modelo 'A'"
   ]
  },
  {
   "cell_type": "code",
   "execution_count": 2,
   "id": "3ba67ab1",
   "metadata": {},
   "outputs": [
    {
     "data": {
      "text/html": [
       "<div>\n",
       "<style scoped>\n",
       "    .dataframe tbody tr th:only-of-type {\n",
       "        vertical-align: middle;\n",
       "    }\n",
       "\n",
       "    .dataframe tbody tr th {\n",
       "        vertical-align: top;\n",
       "    }\n",
       "\n",
       "    .dataframe thead th {\n",
       "        text-align: right;\n",
       "    }\n",
       "</style>\n",
       "<table border=\"1\" class=\"dataframe\">\n",
       "  <thead>\n",
       "    <tr style=\"text-align: right;\">\n",
       "      <th></th>\n",
       "      <th>Test</th>\n",
       "      <th>Buscador</th>\n",
       "      <th>Producto</th>\n",
       "      <th>Categoría</th>\n",
       "    </tr>\n",
       "  </thead>\n",
       "  <tbody>\n",
       "  </tbody>\n",
       "</table>\n",
       "</div>"
      ],
      "text/plain": [
       "Empty DataFrame\n",
       "Columns: [Test, Buscador, Producto, Categoría]\n",
       "Index: []"
      ]
     },
     "execution_count": 2,
     "metadata": {},
     "output_type": "execute_result"
    }
   ],
   "source": [
    "df = pd.DataFrame(columns=['Test', 'Buscador', 'Producto', 'Categoría'])\n",
    "df"
   ]
  },
  {
   "cell_type": "code",
   "execution_count": 31,
   "id": "c515f444",
   "metadata": {},
   "outputs": [
    {
     "data": {
      "text/html": [
       "<div>\n",
       "<style scoped>\n",
       "    .dataframe tbody tr th:only-of-type {\n",
       "        vertical-align: middle;\n",
       "    }\n",
       "\n",
       "    .dataframe tbody tr th {\n",
       "        vertical-align: top;\n",
       "    }\n",
       "\n",
       "    .dataframe thead th {\n",
       "        text-align: right;\n",
       "    }\n",
       "</style>\n",
       "<table border=\"1\" class=\"dataframe\">\n",
       "  <thead>\n",
       "    <tr style=\"text-align: right;\">\n",
       "      <th></th>\n",
       "      <th>Test</th>\n",
       "      <th>Buscador</th>\n",
       "      <th>Producto</th>\n",
       "      <th>Categoría</th>\n",
       "    </tr>\n",
       "  </thead>\n",
       "  <tbody>\n",
       "    <tr>\n",
       "      <th>0</th>\n",
       "      <td>A</td>\n",
       "      <td>0</td>\n",
       "      <td>0</td>\n",
       "      <td>1</td>\n",
       "    </tr>\n",
       "    <tr>\n",
       "      <th>1</th>\n",
       "      <td>A</td>\n",
       "      <td>0</td>\n",
       "      <td>1</td>\n",
       "      <td>0</td>\n",
       "    </tr>\n",
       "    <tr>\n",
       "      <th>2</th>\n",
       "      <td>A</td>\n",
       "      <td>1</td>\n",
       "      <td>1</td>\n",
       "      <td>0</td>\n",
       "    </tr>\n",
       "    <tr>\n",
       "      <th>3</th>\n",
       "      <td>A</td>\n",
       "      <td>1</td>\n",
       "      <td>1</td>\n",
       "      <td>0</td>\n",
       "    </tr>\n",
       "    <tr>\n",
       "      <th>4</th>\n",
       "      <td>A</td>\n",
       "      <td>0</td>\n",
       "      <td>1</td>\n",
       "      <td>1</td>\n",
       "    </tr>\n",
       "  </tbody>\n",
       "</table>\n",
       "</div>"
      ],
      "text/plain": [
       "  Test  Buscador  Producto  Categoría\n",
       "0    A         0         0          1\n",
       "1    A         0         1          0\n",
       "2    A         1         1          0\n",
       "3    A         1         1          0\n",
       "4    A         0         1          1"
      ]
     },
     "execution_count": 31,
     "metadata": {},
     "output_type": "execute_result"
    }
   ],
   "source": [
    "df.Test = ['A']*15\n",
    "df.Buscador = [0,0,1,1,0,1,1,1,1,1,0,0,0,0,0]\n",
    "df.Producto = [0,1,1,1,1,1,1,1,0,0,0,1,0,1,0]\n",
    "df.Categoría = [1,0,0,0,1,1,1,1,1,1,0,0,1,1,1]\n",
    "df.head()"
   ]
  },
  {
   "cell_type": "markdown",
   "id": "fec4f2f5",
   "metadata": {},
   "source": [
    "### Observaciones:\n",
    "\n",
    "Durante la recopilación de datos se le ha pedido al usuario que vaya narrando las acciones que desea ejecutar para visitar la página. Aunque no se puedan cuantificar de manera numérica, algunas de ellas se han repetido y pueden ser interesantes para la modificación del diseño de la página.\n",
    "\n",
    "- No funciona la opción de registro.\n",
    "- El banner de descuentos esta muy pequeño.\n",
    "- Opción de búsqueda por marca de producto.\n",
    "- Muchos productos agotados (ajeno al diseño de la página web).\n",
    "- Opción de ofertas más visible.\n",
    "- Problemas para encontrar el inicio."
   ]
  },
  {
   "cell_type": "markdown",
   "id": "2f218042",
   "metadata": {},
   "source": [
    "# Recopilación de datos modelo 'B'"
   ]
  },
  {
   "cell_type": "code",
   "execution_count": 4,
   "id": "ee5e0e1b",
   "metadata": {},
   "outputs": [],
   "source": [
    "df2 = pd.DataFrame(columns=['Test', 'Buscador', 'Producto', 'Categoría'])"
   ]
  },
  {
   "cell_type": "code",
   "execution_count": 5,
   "id": "5ff22409",
   "metadata": {},
   "outputs": [
    {
     "data": {
      "text/html": [
       "<div>\n",
       "<style scoped>\n",
       "    .dataframe tbody tr th:only-of-type {\n",
       "        vertical-align: middle;\n",
       "    }\n",
       "\n",
       "    .dataframe tbody tr th {\n",
       "        vertical-align: top;\n",
       "    }\n",
       "\n",
       "    .dataframe thead th {\n",
       "        text-align: right;\n",
       "    }\n",
       "</style>\n",
       "<table border=\"1\" class=\"dataframe\">\n",
       "  <thead>\n",
       "    <tr style=\"text-align: right;\">\n",
       "      <th></th>\n",
       "      <th>Test</th>\n",
       "      <th>Buscador</th>\n",
       "      <th>Producto</th>\n",
       "      <th>Categoría</th>\n",
       "    </tr>\n",
       "  </thead>\n",
       "  <tbody>\n",
       "    <tr>\n",
       "      <th>0</th>\n",
       "      <td>B</td>\n",
       "      <td>0</td>\n",
       "      <td>1</td>\n",
       "      <td>1</td>\n",
       "    </tr>\n",
       "    <tr>\n",
       "      <th>1</th>\n",
       "      <td>B</td>\n",
       "      <td>0</td>\n",
       "      <td>1</td>\n",
       "      <td>1</td>\n",
       "    </tr>\n",
       "    <tr>\n",
       "      <th>2</th>\n",
       "      <td>B</td>\n",
       "      <td>1</td>\n",
       "      <td>0</td>\n",
       "      <td>1</td>\n",
       "    </tr>\n",
       "    <tr>\n",
       "      <th>3</th>\n",
       "      <td>B</td>\n",
       "      <td>0</td>\n",
       "      <td>0</td>\n",
       "      <td>1</td>\n",
       "    </tr>\n",
       "    <tr>\n",
       "      <th>4</th>\n",
       "      <td>B</td>\n",
       "      <td>1</td>\n",
       "      <td>0</td>\n",
       "      <td>1</td>\n",
       "    </tr>\n",
       "  </tbody>\n",
       "</table>\n",
       "</div>"
      ],
      "text/plain": [
       "  Test  Buscador  Producto  Categoría\n",
       "0    B         0         1          1\n",
       "1    B         0         1          1\n",
       "2    B         1         0          1\n",
       "3    B         0         0          1\n",
       "4    B         1         0          1"
      ]
     },
     "execution_count": 5,
     "metadata": {},
     "output_type": "execute_result"
    }
   ],
   "source": [
    "df2.Test = ['B']*15\n",
    "df2.Buscador = [0,0,1,0,1,0,1,0,0,0,0]+[1,1,0,0]\n",
    "df2.Producto = [1,1,0,0,0,1,0,1,0,0,0]+[0,1,1,0]\n",
    "df2.Categoría = [1,1,1,1,1,1,1,1,1,1,1]+[1,0,1,1]\n",
    "df2.head()"
   ]
  },
  {
   "cell_type": "markdown",
   "id": "0b7ef572",
   "metadata": {},
   "source": [
    "### Definición de las variables\n",
    "\n",
    "En los contrastes de hipótesis se van a definir como muestra de control el modelo A, y como muestra de testeo el modelo B."
   ]
  },
  {
   "cell_type": "markdown",
   "id": "bee04be4",
   "metadata": {},
   "source": [
    "# Unión de ambos dataframe"
   ]
  },
  {
   "cell_type": "code",
   "execution_count": 6,
   "id": "53e7b64b",
   "metadata": {},
   "outputs": [
    {
     "data": {
      "text/html": [
       "<div>\n",
       "<style scoped>\n",
       "    .dataframe tbody tr th:only-of-type {\n",
       "        vertical-align: middle;\n",
       "    }\n",
       "\n",
       "    .dataframe tbody tr th {\n",
       "        vertical-align: top;\n",
       "    }\n",
       "\n",
       "    .dataframe thead th {\n",
       "        text-align: right;\n",
       "    }\n",
       "</style>\n",
       "<table border=\"1\" class=\"dataframe\">\n",
       "  <thead>\n",
       "    <tr style=\"text-align: right;\">\n",
       "      <th></th>\n",
       "      <th>index</th>\n",
       "      <th>Test</th>\n",
       "      <th>Buscador</th>\n",
       "      <th>Producto</th>\n",
       "      <th>Categoría</th>\n",
       "    </tr>\n",
       "  </thead>\n",
       "  <tbody>\n",
       "    <tr>\n",
       "      <th>0</th>\n",
       "      <td>0</td>\n",
       "      <td>A</td>\n",
       "      <td>0</td>\n",
       "      <td>0</td>\n",
       "      <td>1</td>\n",
       "    </tr>\n",
       "    <tr>\n",
       "      <th>1</th>\n",
       "      <td>1</td>\n",
       "      <td>A</td>\n",
       "      <td>0</td>\n",
       "      <td>1</td>\n",
       "      <td>0</td>\n",
       "    </tr>\n",
       "    <tr>\n",
       "      <th>2</th>\n",
       "      <td>2</td>\n",
       "      <td>A</td>\n",
       "      <td>1</td>\n",
       "      <td>1</td>\n",
       "      <td>0</td>\n",
       "    </tr>\n",
       "    <tr>\n",
       "      <th>3</th>\n",
       "      <td>3</td>\n",
       "      <td>A</td>\n",
       "      <td>1</td>\n",
       "      <td>1</td>\n",
       "      <td>0</td>\n",
       "    </tr>\n",
       "    <tr>\n",
       "      <th>4</th>\n",
       "      <td>4</td>\n",
       "      <td>A</td>\n",
       "      <td>0</td>\n",
       "      <td>1</td>\n",
       "      <td>1</td>\n",
       "    </tr>\n",
       "  </tbody>\n",
       "</table>\n",
       "</div>"
      ],
      "text/plain": [
       "   index Test  Buscador  Producto  Categoría\n",
       "0      0    A         0         0          1\n",
       "1      1    A         0         1          0\n",
       "2      2    A         1         1          0\n",
       "3      3    A         1         1          0\n",
       "4      4    A         0         1          1"
      ]
     },
     "execution_count": 6,
     "metadata": {},
     "output_type": "execute_result"
    }
   ],
   "source": [
    "data = pd.concat([df, df2], axis=0)\n",
    "data.reset_index(inplace=True)\n",
    "data.head()"
   ]
  },
  {
   "cell_type": "markdown",
   "id": "215d121c",
   "metadata": {},
   "source": [
    "# Buscador"
   ]
  },
  {
   "cell_type": "code",
   "execution_count": 7,
   "id": "f4f7ea1f",
   "metadata": {},
   "outputs": [
    {
     "name": "stdout",
     "output_type": "stream",
     "text": [
      "TASAS RET1: Control=0.4666666666666667, Test=0.3333333333333333\n"
     ]
    }
   ],
   "source": [
    "# Buscador\n",
    "\n",
    "imps_ctrl1, convs_ctrl1= len(data[data['Test']=='A']), len(data[(data['Test']=='A') & (data['Buscador']==1)])\n",
    "imps_test1, convs_test1= len(data[data['Test']=='B']), len(data[(data['Test']=='B') & (data['Buscador']==1)])\n",
    "\n",
    "CR_ctrl1=convs_ctrl1/imps_ctrl1\n",
    "CR_test1=convs_test1/imps_test1\n",
    "\n",
    "print(f'TASAS RET1: Control={CR_ctrl1}, Test={CR_test1}')"
   ]
  },
  {
   "cell_type": "code",
   "execution_count": 20,
   "id": "014b6530",
   "metadata": {},
   "outputs": [
    {
     "data": {
      "image/png": "[encoded data removed]",
      "text/plain": [
       "<Figure size 432x288 with 1 Axes>"
      ]
     },
     "metadata": {
      "needs_background": "light"
     },
     "output_type": "display_data"
    }
   ],
   "source": [
    "# Testeo\n",
    "\n",
    "a_C, b_C = convs_ctrl1+1, imps_ctrl1-convs_ctrl1+1\n",
    "a_T, b_T = convs_test1+1, imps_test1-convs_test1+1\n",
    "\n",
    "beta_control=beta(a_C, b_C)\n",
    "beta_test=beta(a_T, b_T)\n",
    "x=np.linspace(0, 1, 1000)\n",
    "\n",
    "plot([beta_control, beta_test], ['Control', 'Testeo'], x)"
   ]
  },
  {
   "cell_type": "code",
   "execution_count": 30,
   "id": "7911665b",
   "metadata": {},
   "outputs": [
    {
     "data": {
      "text/plain": [
       "'El test disminuye la tasa de conversion en un 25.00%, con una probabilidad del 69.74%'"
      ]
     },
     "execution_count": 30,
     "metadata": {},
     "output_type": "execute_result"
    }
   ],
   "source": [
    "salto=abs((beta_test.mean()-beta_control.mean())/beta_control.mean())\n",
    "\n",
    "prob=beta.cdf(0.409, a_T, b_T)\n",
    "\n",
    "prob=float(prob)\n",
    "\n",
    "'''El test disminuye la tasa de conversion en un {:2.2f}%, con una probabilidad del {:2.2f}%'''.format(salto*100, prob*100)"
   ]
  },
  {
   "cell_type": "markdown",
   "id": "91fbf1f5",
   "metadata": {},
   "source": [
    "# Producto"
   ]
  },
  {
   "cell_type": "code",
   "execution_count": 10,
   "id": "ff27c05e",
   "metadata": {},
   "outputs": [
    {
     "name": "stdout",
     "output_type": "stream",
     "text": [
      "TASAS RET7: Control=0.6, Test=0.4\n"
     ]
    }
   ],
   "source": [
    "# Producto\n",
    "\n",
    "imps_ctrl2, convs_ctrl2= len(data[data['Test']=='A']), len(data[(data['Test']=='A') & (data['Producto']==1)])\n",
    "imps_test2, convs_test2= len(data[data['Test']=='B']), len(data[(data['Test']=='B') & (data['Producto']==1)])\n",
    "\n",
    "CR_ctrl2=convs_ctrl2/imps_ctrl2\n",
    "CR_test2=convs_test2/imps_test2\n",
    "\n",
    "print(f'TASAS RET7: Control={CR_ctrl2}, Test={CR_test2}')"
   ]
  },
  {
   "cell_type": "code",
   "execution_count": 23,
   "id": "96d05001",
   "metadata": {},
   "outputs": [
    {
     "data": {
      "image/png": "[encoded data removed]",
      "text/plain": [
       "<Figure size 432x288 with 1 Axes>"
      ]
     },
     "metadata": {
      "needs_background": "light"
     },
     "output_type": "display_data"
    }
   ],
   "source": [
    "# Testeo\n",
    "\n",
    "a_C2, b_C2 = convs_ctrl2+1, imps_ctrl1-convs_ctrl2+1\n",
    "a_T2, b_T2 = convs_test2+1, imps_test2-convs_test2+1\n",
    "\n",
    "beta_control2=beta(a_C2, b_C2)\n",
    "beta_test2=beta(a_T2, b_T2)\n",
    "x2=np.linspace(0, 1, 1000)\n",
    "\n",
    "plot([beta_control2, beta_test2], ['Control', 'Testeo'], x2)"
   ]
  },
  {
   "cell_type": "code",
   "execution_count": 29,
   "id": "d879fd1b",
   "metadata": {},
   "outputs": [
    {
     "data": {
      "text/plain": [
       "'El test disminuye la tasa de conversion en un 30.00%, con una probabilidad del 77.28%'"
      ]
     },
     "execution_count": 29,
     "metadata": {},
     "output_type": "execute_result"
    }
   ],
   "source": [
    "salto2=abs((beta_test2.mean()-beta_control2.mean())/beta_control2.mean())\n",
    "\n",
    "prob2=beta.cdf(0.5, a_T2, b_T2)\n",
    "\n",
    "prob2=float(prob2)\n",
    "\n",
    "'''El test disminuye la tasa de conversion en un {:2.2f}%, con una probabilidad del {:2.2f}%'''.format(salto2*100, prob2*100)"
   ]
  },
  {
   "cell_type": "markdown",
   "id": "e33523a1",
   "metadata": {},
   "source": [
    "# Categoría"
   ]
  },
  {
   "cell_type": "code",
   "execution_count": 12,
   "id": "429e44c2",
   "metadata": {},
   "outputs": [
    {
     "name": "stdout",
     "output_type": "stream",
     "text": [
      "TASAS RET7: Control=0.6666666666666666, Test=0.9333333333333333\n"
     ]
    }
   ],
   "source": [
    "# Categoría\n",
    "\n",
    "imps_ctrl3, convs_ctrl3= len(data[data['Test']=='A']), len(data[(data['Test']=='A') & (data['Categoría']==1)])\n",
    "imps_test3, convs_test3= len(data[data['Test']=='B']), len(data[(data['Test']=='B') & (data['Categoría']==1)])\n",
    "\n",
    "CR_ctrl3=convs_ctrl3/imps_ctrl3\n",
    "CR_test3=convs_test3/imps_test3\n",
    "\n",
    "print(f'TASAS RET7: Control={CR_ctrl3}, Test={CR_test3}')"
   ]
  },
  {
   "cell_type": "code",
   "execution_count": 28,
   "id": "6d344b54",
   "metadata": {},
   "outputs": [
    {
     "data": {
      "image/png": "[encoded data removed]",
      "text/plain": [
       "<Figure size 432x288 with 1 Axes>"
      ]
     },
     "metadata": {
      "needs_background": "light"
     },
     "output_type": "display_data"
    },
    {
     "name": "stdout",
     "output_type": "stream",
     "text": [
      "0.6470588235294118 0.8823529411764706\n"
     ]
    }
   ],
   "source": [
    "# Testeo\n",
    "\n",
    "a_C3, b_C3 = convs_ctrl3+1, imps_ctrl3-convs_ctrl3+1\n",
    "a_T3, b_T3 = convs_test3+1, imps_test3-convs_test3+1\n",
    "\n",
    "beta_control3=beta(a_C3, b_C3)\n",
    "beta_test3=beta(a_T3, b_T3)\n",
    "x3=np.linspace(0, 1, 1000)\n",
    "\n",
    "plot([beta_control3, beta_test3], ['Control', 'Testeo'], x3)\n",
    "print(beta_control3.mean(), beta_test3.mean())"
   ]
  },
  {
   "cell_type": "code",
   "execution_count": 26,
   "id": "f8bcf557",
   "metadata": {},
   "outputs": [
    {
     "data": {
      "text/plain": [
       "'El test aumenta la tasa de conversion en un 36.36%, con una probabilidad del 87.91%'"
      ]
     },
     "execution_count": 26,
     "metadata": {},
     "output_type": "execute_result"
    }
   ],
   "source": [
    "salto3=(beta_test3.mean()-beta_control3.mean())/beta_control3.mean()\n",
    "\n",
    "prob3=1-beta.cdf(0.79, a_T3, b_T3)\n",
    "\n",
    "prob3=float(prob3)\n",
    "\n",
    "'''El test aumenta la tasa de conversion en un {:2.2f}%, con una probabilidad del {:2.2f}%'''.format(salto3*100, prob3*100)"
   ]
  },
  {
   "cell_type": "code",
   "execution_count": null,
   "id": "981f4a70",
   "metadata": {},
   "outputs": [],
   "source": []
  }
 ],
 "metadata": {
  "kernelspec": {
   "display_name": "Python 3",
   "language": "python",
   "name": "python3"
  },
  "language_info": {
   "codemirror_mode": {
    "name": "ipython",
    "version": 3
   },
   "file_extension": ".py",
   "mimetype": "text/x-python",
   "name": "python",
   "nbconvert_exporter": "python",
   "pygments_lexer": "ipython3",
   "version": "3.8.8"
  }
 },
 "nbformat": 4,
 "nbformat_minor": 5
}
